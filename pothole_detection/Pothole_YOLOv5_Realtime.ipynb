{
  "nbformat": 4,
  "nbformat_minor": 0,
  "metadata": {
    "accelerator": "GPU",
    "colab": {
      "name": "Pothole-YOLOv5-Realtime",
      "provenance": [],
      "collapsed_sections": [],
      "toc_visible": true,
      "include_colab_link": true
    },
    "kernelspec": {
      "display_name": "Python 3",
      "name": "python3"
    }
  },
  "cells": [
    {
      "cell_type": "markdown",
      "metadata": {
        "id": "view-in-github",
        "colab_type": "text"
      },
      "source": [
        "<a href=\"https://colab.research.google.com/github/reapbenefit/easyreport/blob/main/pothole_detection/Pothole_YOLOv5_Realtime.ipynb\" target=\"_parent\"><img src=\"https://colab.research.google.com/assets/colab-badge.svg\" alt=\"Open In Colab\"/></a>"
      ]
    },
    {
      "cell_type": "markdown",
      "metadata": {
        "id": "7mGmQbAO5pQb"
      },
      "source": [
        "#Install Dependencies\n",
        "\n",
        "_(Remember to choose GPU in Runtime if not already selected. Runtime --> Change Runtime Type --> Hardware accelerator --> GPU)_"
      ]
    },
    {
      "cell_type": "code",
      "metadata": {
        "colab": {
          "base_uri": "https://localhost:8080/"
        },
        "id": "Ie5uLDH4uzAp",
        "outputId": "b224ee8b-6b89-4428-c680-ba377880e308"
      },
      "source": [
        "#variables\n",
        "github_repo = \"github.com/reapbenefit/easyreport.git\"\n",
        "req = \"/content/easyreport/pothole_detection/requirements.txt\" \n",
        "\n",
        "# clone repo\n",
        "# from getpass import getpass\n",
        "# uname = getpass('Username')\n",
        "# ename = getpass('Email ID:')\n",
        "# password = getpass('Password:')\n",
        "!git clone https://$github_repo\n",
        "\n",
        "# install dependencies\n",
        "!pip install -qr {req}\n",
        "import torch\n",
        "from zipfile import ZipFile \n",
        "from io import BytesIO\n",
        "from IPython.display import Image, clear_output  # to display images\n",
        "from easyreport.pothole_detection.utils.google_utils import gdrive_download  # to download models/datasets\n",
        "import glob\n",
        "\n",
        "# clear_output()\n",
        "print('Setup complete. Using torch %s %s' % (torch.__version__, torch.cuda.get_device_properties(0) if torch.cuda.is_available() else 'CPU'))"
      ],
      "execution_count": 1,
      "outputs": [
        {
          "output_type": "stream",
          "text": [
            "Cloning into 'easyreport'...\n",
            "remote: Enumerating objects: 28, done.\u001b[K\n",
            "remote: Counting objects: 100% (28/28), done.\u001b[K\n",
            "remote: Compressing objects: 100% (26/26), done.\u001b[K\n",
            "remote: Total 3496 (delta 3), reused 20 (delta 1), pack-reused 3468\u001b[K\n",
            "Receiving objects: 100% (3496/3496), 199.85 MiB | 18.16 MiB/s, done.\n",
            "Resolving deltas: 100% (2308/2308), done.\n",
            "\u001b[K     |████████████████████████████████| 645kB 4.0MB/s \n",
            "\u001b[?25hSetup complete. Using torch 1.7.1+cu101 _CudaDeviceProperties(name='Tesla K80', major=3, minor=7, total_memory=11441MB, multi_processor_count=13)\n"
          ],
          "name": "stdout"
        }
      ]
    },
    {
      "cell_type": "markdown",
      "metadata": {
        "id": "iMfMNagoOjN_"
      },
      "source": [
        "# Extract dataset"
      ]
    },
    {
      "cell_type": "code",
      "metadata": {
        "colab": {
          "base_uri": "https://localhost:8080/"
        },
        "id": "ySuv5A8LOnLW",
        "outputId": "5bab084d-cc48-4deb-8683-5e4eafd2e97c"
      },
      "source": [
        "!mkdir dataset\r\n",
        "%cd dataset\r\n",
        "!wget -O images.zip https://www.dropbox.com/sh/ylc3dbasknxezm9/AABrWgaTjswiDrMhzwScZAXda?dl=1\r\n",
        "with ZipFile(\"images.zip\", 'r') as zip:\r\n",
        "  zip.extractall()\r\n",
        "  print(\"Unzipped file\")\r\n",
        "!rm images.zip\r\n",
        "%cd /content/"
      ],
      "execution_count": 2,
      "outputs": [
        {
          "output_type": "stream",
          "text": [
            "/content/dataset\n",
            "--2021-03-04 09:54:14--  https://www.dropbox.com/sh/ylc3dbasknxezm9/AABrWgaTjswiDrMhzwScZAXda?dl=1\n",
            "Resolving www.dropbox.com (www.dropbox.com)... 162.125.80.18, 2620:100:6032:18::a27d:5212\n",
            "Connecting to www.dropbox.com (www.dropbox.com)|162.125.80.18|:443... connected.\n",
            "HTTP request sent, awaiting response... 301 Moved Permanently\n",
            "Location: /sh/dl/ylc3dbasknxezm9/AABrWgaTjswiDrMhzwScZAXda [following]\n",
            "--2021-03-04 09:54:15--  https://www.dropbox.com/sh/dl/ylc3dbasknxezm9/AABrWgaTjswiDrMhzwScZAXda\n",
            "Reusing existing connection to www.dropbox.com:443.\n",
            "HTTP request sent, awaiting response... 302 Found\n",
            "Location: https://uc62ec6b39518d2255918e46b9e9.dl.dropboxusercontent.com/zip_download_get/AtYMacoYtv9BbYT-wEyPXC3zYsvJyYUG5uhnLecfK51JNm8XjGTLRe-xiphyAkrR3x0pJ2NO85IVHcRmnD6i5EAFlfSKAVTO78OiPX7IOGT9kg?dl=1 [following]\n",
            "--2021-03-04 09:54:15--  https://uc62ec6b39518d2255918e46b9e9.dl.dropboxusercontent.com/zip_download_get/AtYMacoYtv9BbYT-wEyPXC3zYsvJyYUG5uhnLecfK51JNm8XjGTLRe-xiphyAkrR3x0pJ2NO85IVHcRmnD6i5EAFlfSKAVTO78OiPX7IOGT9kg?dl=1\n",
            "Resolving uc62ec6b39518d2255918e46b9e9.dl.dropboxusercontent.com (uc62ec6b39518d2255918e46b9e9.dl.dropboxusercontent.com)... 162.125.82.15, 2620:100:6032:15::a27d:520f\n",
            "Connecting to uc62ec6b39518d2255918e46b9e9.dl.dropboxusercontent.com (uc62ec6b39518d2255918e46b9e9.dl.dropboxusercontent.com)|162.125.82.15|:443... connected.\n",
            "HTTP request sent, awaiting response... 200 OK\n",
            "Length: 560141251 (534M) [application/zip]\n",
            "Saving to: ‘images.zip’\n",
            "\n",
            "images.zip          100%[===================>] 534.19M  14.7MB/s    in 39s     \n",
            "\n",
            "2021-03-04 09:54:55 (13.7 MB/s) - ‘images.zip’ saved [560141251/560141251]\n",
            "\n",
            "Unzipped file\n",
            "/content\n"
          ],
          "name": "stdout"
        }
      ]
    },
    {
      "cell_type": "markdown",
      "metadata": {
        "id": "N3qM6T0W53gh"
      },
      "source": [
        "#Run Inference  With Trained Weights\n"
      ]
    },
    {
      "cell_type": "code",
      "metadata": {
        "colab": {
          "base_uri": "https://localhost:8080/"
        },
        "id": "9nmZZnWOgJ2S",
        "outputId": "56af29c4-3731-4e55-d65a-a1ebca0ba367"
      },
      "source": [
        "# use the best weights\n",
        "!python /content/easyreport/pothole_detection/detect.py --weights /content/easyreport/pothole_detection/weights/best.pt --img 416 --conf 0.4 --source /content/dataset --save-txt --save-conf"
      ],
      "execution_count": 3,
      "outputs": [
        {
          "output_type": "stream",
          "text": [
            "Namespace(agnostic_nms=False, augment=False, classes=None, conf_thres=0.4, device='', exist_ok=False, img_size=416, iou_thres=0.45, name='exp', project='runs/detect', save_conf=True, save_txt=True, source='/content/dataset', update=False, view_img=False, weights=['/content/easyreport/pothole_detection/weights/best.pt'])\n",
            "Using torch 1.7.1+cu101 CUDA:0 (Tesla K80, 11441MB)\n",
            "\n",
            "Fusing layers... \n",
            "Model Summary: 232 layers, 7246518 parameters, 0 gradients\n",
            "image 1/96 /content/dataset/Archana K R - 20210304_093423.jpg: 416x320 Done. (0.044s)\n",
            "image 2/96 /content/dataset/Archana K R - 20210304_093614.jpg: 416x320 1 potholes, Done. (0.036s)\n",
            "image 3/96 /content/dataset/Gautam - 02DEF733-B6FD-4E57-B16C-70653DFE6403.jpeg: 320x416 Done. (0.023s)\n",
            "image 4/96 /content/dataset/Gautam - 0458EFC2-1D17-4D95-A680-EF27A3706EBC.jpeg: 416x256 3 potholes, Done. (0.023s)\n",
            "image 5/96 /content/dataset/Gautam - 06337B11-F2C2-4FBE-996E-5462CF7D0A42.jpeg: 416x320 Done. (0.023s)\n",
            "image 6/96 /content/dataset/Gautam - 0A3A2862-211A-4E99-A7C9-745DAA64A0C0.jpeg: 320x416 Done. (0.023s)\n",
            "image 7/96 /content/dataset/Gautam - 0C50C967-9C59-41AA-B957-9487F42BDB3D.jpeg: 320x416 Done. (0.022s)\n",
            "image 8/96 /content/dataset/Gautam - 0D35133F-7738-47A1-85E0-F57E477759AC.jpeg: 256x416 1 potholes, Done. (0.023s)\n",
            "image 9/96 /content/dataset/Gautam - 0FA31A77-C9BD-45BE-9871-952D31CDED42.jpeg: 416x256 Done. (0.023s)\n",
            "image 10/96 /content/dataset/Gautam - 104DF92A-B496-4FDC-ABB8-33B50FA5CB42.jpeg: 320x416 1 potholes, Done. (0.024s)\n",
            "image 11/96 /content/dataset/Gautam - 1051FB3C-90A3-4456-9485-132ACB02C01D.jpeg: 320x416 Done. (0.022s)\n",
            "image 12/96 /content/dataset/Gautam - 1518347F-D03A-4D42-93FB-4F55EB53BDEC.jpeg: 416x320 1 potholes, Done. (0.024s)\n",
            "image 13/96 /content/dataset/Gautam - 18290648-92DF-4D62-882E-B9FC5ADA20A0.jpeg: 320x416 Done. (0.023s)\n",
            "image 14/96 /content/dataset/Gautam - 1B0067AD-D2EC-4AB3-95F6-3AECD7F8438D.jpeg: 416x320 Done. (0.023s)\n",
            "image 15/96 /content/dataset/Gautam - 1B17B8EB-224E-4038-9F29-B3E0B84D239C.jpeg: 416x320 1 potholes, Done. (0.023s)\n",
            "image 16/96 /content/dataset/Gautam - 225E9100-C16F-4BB6-B3B8-065B5AA083DB.jpeg: 416x256 2 potholes, Done. (0.023s)\n",
            "image 17/96 /content/dataset/Gautam - 2291C895-F277-4D27-B38A-E98F06889417.jpeg: 416x320 Done. (0.023s)\n",
            "image 18/96 /content/dataset/Gautam - 23F9D529-BE82-445A-83EC-3D9CCFB34437.jpeg: 416x320 Done. (0.022s)\n",
            "image 19/96 /content/dataset/Gautam - 2C766B3A-EFE3-42D1-97DE-E3DAA86E44DA.jpeg: 256x416 Done. (0.022s)\n",
            "image 20/96 /content/dataset/Gautam - 2CE2E350-D565-480B-BBBB-FC3031B37ED0.jpeg: 416x320 Done. (0.023s)\n",
            "image 21/96 /content/dataset/Gautam - 2DF38636-4F97-45F2-B963-58C93FFF8A04.jpeg: 416x256 Done. (0.022s)\n",
            "image 22/96 /content/dataset/Gautam - 2F15CE3C-9ABE-4D10-8998-358491A71A7B.jpeg: 416x320 2 potholes, Done. (0.024s)\n",
            "image 23/96 /content/dataset/Gautam - 3078403B-BA18-4DFC-B36B-411B75E157FA.jpeg: 320x416 1 potholes, Done. (0.024s)\n",
            "image 24/96 /content/dataset/Gautam - 37BD6174-4873-4C05-8482-33567F1BD0FD.jpeg: 416x320 Done. (0.023s)\n",
            "image 25/96 /content/dataset/Gautam - 3D32C3F4-CB17-420D-8199-4B83FBEF9F5E.jpeg: 416x320 Done. (0.022s)\n",
            "image 26/96 /content/dataset/Gautam - 3ED56859-70F0-4E83-AD84-E4FDADBC491D.jpeg: 256x416 Done. (0.022s)\n",
            "image 27/96 /content/dataset/Gautam - 4A6FD08A-7477-4AB0-B9A9-7E28A14E4F5C.jpeg: 416x320 Done. (0.023s)\n",
            "image 28/96 /content/dataset/Gautam - 4C9C3E33-4E8A-4554-9CAE-C4F606B769A7.jpeg: 416x320 Done. (0.022s)\n",
            "image 29/96 /content/dataset/Gautam - 5098221E-AEAB-4DB9-9E3C-C60074075EF3.jpeg: 416x320 1 potholes, Done. (0.023s)\n",
            "image 30/96 /content/dataset/Gautam - 519FB934-FB62-43AC-AC3D-914F99730AE2.jpeg: 416x320 3 potholes, Done. (0.023s)\n",
            "image 31/96 /content/dataset/Gautam - 51D68B6E-63DD-470D-8C24-47410DECD394.jpeg: 416x320 1 potholes, Done. (0.023s)\n",
            "image 32/96 /content/dataset/Gautam - 55F007DF-9DDE-42ED-894F-498A9E7B68C8.jpeg: 256x416 1 potholes, Done. (0.023s)\n",
            "image 33/96 /content/dataset/Gautam - 62317D3F-C136-45DF-A1CF-E40219F020A6.jpeg: 320x416 Done. (0.023s)\n",
            "image 34/96 /content/dataset/Gautam - 66720911-D0DB-481F-8A1C-19FD3B779ECA.jpeg: 416x320 Done. (0.023s)\n",
            "image 35/96 /content/dataset/Gautam - 670723E5-7937-4BDC-98A0-BF700C3BAB29.jpeg: 416x320 1 potholes, Done. (0.023s)\n",
            "image 36/96 /content/dataset/Gautam - 68D063B5-CCEB-4D18-A5B9-C289D04ADF21.jpeg: 416x320 Done. (0.022s)\n",
            "image 37/96 /content/dataset/Gautam - 6A229CF6-3397-4566-A378-F554381200AC.jpeg: 416x320 Done. (0.022s)\n",
            "image 38/96 /content/dataset/Gautam - 72C8349E-EC35-4ABD-A3F4-19CE9EBE5C3D.jpeg: 416x256 1 potholes, Done. (0.023s)\n",
            "image 39/96 /content/dataset/Gautam - 73C6CCE7-6068-49D7-A4E4-29CEB615C36F.jpeg: 320x416 1 potholes, Done. (0.024s)\n",
            "image 40/96 /content/dataset/Gautam - 74F97A33-363D-4FC9-AA0B-D3EB4418C9FD.jpeg: 416x320 3 potholes, Done. (0.024s)\n",
            "image 41/96 /content/dataset/Gautam - 77555DFC-5566-4B92-9AD8-06B8ED6D5859.jpeg: 416x320 Done. (0.022s)\n",
            "image 42/96 /content/dataset/Gautam - 77E17340-DC13-4209-843B-B74FBECA8D59.jpeg: 416x320 1 potholes, Done. (0.023s)\n",
            "image 43/96 /content/dataset/Gautam - 7D775C3F-9BD4-4A87-8BE3-5090439B5401.jpeg: 416x320 Done. (0.022s)\n",
            "image 44/96 /content/dataset/Gautam - 7DDA4545-28F8-4062-9871-BECE0786F4C5.jpeg: 416x256 1 potholes, Done. (0.023s)\n",
            "image 45/96 /content/dataset/Gautam - 7E5D2D51-A526-43EB-8C0D-13B136CBAE33.jpeg: 320x416 Done. (0.023s)\n",
            "image 46/96 /content/dataset/Gautam - 7F279DDF-CA21-48B9-8B3A-C1E06FAFA842.jpeg: 416x320 Done. (0.023s)\n",
            "image 47/96 /content/dataset/Gautam - 806AAF4E-48DB-44B3-A701-EC20B92F55F7.jpeg: 416x320 Done. (0.022s)\n",
            "image 48/96 /content/dataset/Gautam - 81F9CDCC-D7D0-4FDF-8319-07B22AD15173.jpeg: 256x416 2 potholes, Done. (0.023s)\n",
            "image 49/96 /content/dataset/Gautam - 82080DFC-B93C-4340-A4B4-6E0D8566D6CD.jpeg: 320x416 Done. (0.023s)\n",
            "image 50/96 /content/dataset/Gautam - 82CD63B4-BD8C-46A6-A305-EF6CE950D3C0.jpeg: 416x320 Done. (0.023s)\n",
            "image 51/96 /content/dataset/Gautam - 88426654-8A86-49F3-B6BD-5535F56835FC.jpeg: 320x416 1 potholes, Done. (0.024s)\n",
            "image 52/96 /content/dataset/Gautam - 8D3235C7-8D88-4721-A69D-8AA6ACD59193.jpeg: 320x416 Done. (0.022s)\n",
            "image 53/96 /content/dataset/Gautam - 93360784-6D19-4BAA-9F08-EFE28A7D9917.jpeg: 416x320 Done. (0.023s)\n",
            "image 54/96 /content/dataset/Gautam - 94C5D0C3-22BF-445A-8FA7-1595E69193E4.jpeg: 416x320 1 potholes, Done. (0.023s)\n",
            "image 55/96 /content/dataset/Gautam - 986F9B0D-BA86-41DB-961E-7B2D206DC516.jpeg: 416x320 1 potholes, Done. (0.023s)\n",
            "image 56/96 /content/dataset/Gautam - 991D68EF-C60C-4DC0-9BC6-A62511F202C8.jpeg: 320x416 1 potholes, Done. (0.024s)\n",
            "image 57/96 /content/dataset/Gautam - 9A1EE621-60C7-4220-958F-C5525A38F123.jpeg: 416x256 1 potholes, Done. (0.023s)\n",
            "image 58/96 /content/dataset/Gautam - 9A926E07-AAF9-4690-90E9-BFCFCC5DE4E0.jpeg: 416x320 Done. (0.023s)\n",
            "image 59/96 /content/dataset/Gautam - 9B66FA95-6D6C-44C7-B783-29D0F8B144CF.jpeg: 416x320 Done. (0.022s)\n",
            "image 60/96 /content/dataset/Gautam - A0A6CA5F-343B-4CAF-B38C-E3BBACCA6395.jpeg: 320x416 2 potholes, Done. (0.024s)\n",
            "image 61/96 /content/dataset/Gautam - A56331BD-8C1B-47D8-9E78-4F32B2F1C7D9.jpeg: 416x320 Done. (0.023s)\n",
            "image 62/96 /content/dataset/Gautam - A5BB24E6-B33D-4A42-AE20-47A0E88A8AD4.jpeg: 320x416 Done. (0.023s)\n",
            "image 63/96 /content/dataset/Gautam - A5E26838-9DAE-4665-827E-43DB2CC34025.jpeg: 320x416 Done. (0.022s)\n",
            "image 64/96 /content/dataset/Gautam - A7EB177E-A7B4-40C1-84C7-02842C45642C.jpeg: 320x416 1 potholes, Done. (0.023s)\n",
            "image 65/96 /content/dataset/Gautam - AE293A53-9832-470F-8039-C2D39D07B458.jpeg: 320x416 3 potholes, Done. (0.023s)\n",
            "image 66/96 /content/dataset/Gautam - B575C3C5-08AC-4BFC-BD7F-EC564F8BCB84.jpeg: 416x320 3 potholes, Done. (0.024s)\n",
            "image 67/96 /content/dataset/Gautam - B6A1A48A-B5A3-4D92-95AB-43BFBF055CD4.jpeg: 416x320 3 potholes, Done. (0.023s)\n",
            "image 68/96 /content/dataset/Gautam - B843B501-9C64-4905-84A4-F192835AE6D7.jpeg: 416x320 2 potholes, Done. (0.023s)\n",
            "image 69/96 /content/dataset/Gautam - BC55FD8C-2610-4E03-99D9-7A7075759FF2.jpeg: 320x416 Done. (0.023s)\n",
            "image 70/96 /content/dataset/Gautam - BDAD462C-0268-481F-AF60-062BD2CAD214.jpeg: 320x416 Done. (0.022s)\n",
            "image 71/96 /content/dataset/Gautam - BE1069EE-CC18-451F-BBCA-5A91AEA567DD.jpeg: 320x416 1 potholes, Done. (0.023s)\n",
            "image 72/96 /content/dataset/Gautam - D091A506-CDA1-404C-AF46-57D49FDA0E31.jpeg: 416x320 Done. (0.023s)\n",
            "image 73/96 /content/dataset/Gautam - D185116C-18BC-475E-9B1E-A097FA7B4C5E.jpeg: 320x416 4 potholes, Done. (0.024s)\n",
            "image 74/96 /content/dataset/Gautam - D23A6A9C-00C4-4FE4-892B-E4F9D5AF55D7.jpeg: 416x320 1 potholes, Done. (0.024s)\n",
            "image 75/96 /content/dataset/Gautam - D2B97999-4ACC-4C4B-9D2C-99DBA3D9C0B7.jpeg: 320x416 2 potholes, Done. (0.026s)\n",
            "image 76/96 /content/dataset/Gautam - D4D2D9AD-B49D-482B-982E-CD210E46ABA4.jpeg: 320x416 Done. (0.022s)\n",
            "image 77/96 /content/dataset/Gautam - DBEB39E5-090B-47CA-A684-0D0072AB908D.jpeg: 416x320 Done. (0.023s)\n",
            "image 78/96 /content/dataset/Gautam - E38C2C9D-42B6-4178-A23D-177426E20D66.jpeg: 416x320 3 potholes, Done. (0.023s)\n",
            "image 79/96 /content/dataset/Gautam - E46D3091-49F6-4B28-9E6A-A48F0B52ACA6.jpeg: 320x416 Done. (0.023s)\n",
            "image 80/96 /content/dataset/Gautam - E671480E-F57F-4C46-AE7E-CD627ED7AEA4.jpeg: 416x320 Done. (0.025s)\n",
            "image 81/96 /content/dataset/Gautam - EA277CC7-FEF6-490F-B1E1-6BCC24E17E8A.jpeg: 320x416 1 potholes, Done. (0.024s)\n",
            "image 82/96 /content/dataset/Gautam - EB417652-F0FC-4466-867A-0D80BCD56FED.jpeg: 320x416 Done. (0.022s)\n",
            "image 83/96 /content/dataset/Gautam - EBE36953-AEFE-4DAF-866C-1FC946B590E6.jpeg: 416x320 3 potholes, Done. (0.024s)\n",
            "image 84/96 /content/dataset/Gautam - F331E4D4-1A4C-4A53-AF65-7E25C1A505E5.jpeg: 320x416 1 potholes, Done. (0.024s)\n",
            "image 85/96 /content/dataset/Gautam - F341E6D3-978C-463E-9235-594E9155BF66.jpeg: 416x320 Done. (0.023s)\n",
            "image 86/96 /content/dataset/Gautam - F4731BF0-D2A5-4F7D-9BA5-68F6C4B8EF66.jpeg: 320x416 1 potholes, Done. (0.024s)\n",
            "image 87/96 /content/dataset/Gautam - F55A1BC8-6167-4BC0-9C75-BD089F770FC8.jpeg: 320x416 Done. (0.022s)\n",
            "image 88/96 /content/dataset/Gautam - F80926AE-017E-41A0-B5B5-663993F26484.jpeg: 320x416 Done. (0.022s)\n",
            "image 89/96 /content/dataset/Gautam - F8A73E64-4EE9-4017-BB90-DFFCEDE4A7FB.jpeg: 320x416 Done. (0.022s)\n",
            "image 90/96 /content/dataset/Gautam - F9A433A2-1EAF-4691-8B47-D15CA21A402E.jpeg: 320x416 3 potholes, Done. (0.023s)\n",
            "image 91/96 /content/dataset/Gautam - FADF1A5C-9DFE-4BF9-8146-56235336EBA5.jpeg: 416x320 Done. (0.023s)\n",
            "image 92/96 /content/dataset/Gautam - FD0164DB-D145-4F10-87DB-433533072D0A.jpeg: 416x320 Done. (0.022s)\n",
            "image 93/96 /content/dataset/Gautam - FE6A5CE0-D876-4647-B727-34437A6F2BE7.jpeg: 416x320 1 potholes, Done. (0.023s)\n",
            "image 94/96 /content/dataset/Gautam - FF2ED2AF-5901-4D3B-8663-F906E83A6B42.jpeg: 416x320 1 potholes, Done. (0.023s)\n",
            "image 95/96 /content/dataset/Gautam - image.jpg: 416x320 4 potholes, Done. (0.023s)\n",
            "image 96/96 /content/dataset/Rakshit Jain - PXL_20210217_093027523.jpg: 416x320 Done. (0.022s)\n",
            "Results saved to runs/detect/exp\n",
            "44 labels saved to runs/detect/exp/labels\n",
            "Done. (54.334s)\n"
          ],
          "name": "stdout"
        }
      ]
    }
  ]
}